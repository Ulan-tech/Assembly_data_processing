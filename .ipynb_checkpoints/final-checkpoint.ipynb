{
 "cells": [
  {
   "cell_type": "code",
   "execution_count": 1,
   "id": "c5de969c-8d73-4de2-8c72-8ce53f04d560",
   "metadata": {},
   "outputs": [],
   "source": [
    "inconel = 'inconel_slm'\n",
    "maraging_steel = 'maraging_steel_slm'\n",
    "ss316l = 'sus316l'\n",
    "ti_grade2 = 'cp_ti'\n",
    "ti64 = 'ti6al4V'\n",
    "mat_cost_kg = 0"
   ]
  },
  {
   "cell_type": "code",
   "execution_count": 35,
   "id": "38710040-0ddd-4a14-8b92-a372f0fae26f",
   "metadata": {},
   "outputs": [],
   "source": [
    "# %% Cost of build parameters all in KRW\n",
    "F = 0.15  # an assumed value, it should be obtained by evaluation of ~50 builds in SLM single laser printer\n",
    "c_machrate = 52546\n",
    "c_gas = 60000\n",
    "c_rl = 90000\n",
    "c_filter_porous = 127000 #it was 400000 "
   ]
  },
  {
   "cell_type": "code",
   "execution_count": 36,
   "id": "92e9ab16-9916-4244-8b83-9ff316bf0bcd",
   "metadata": {},
   "outputs": [],
   "source": [
    "# %% Post-processing cost\n",
    "c_mp = 50000\n",
    "# c_wc = 200000  # let it stay as constant for now\n",
    "# c_ht = 100000  # this is an assumed value, it should be different for various materials"
   ]
  },
  {
   "cell_type": "code",
   "execution_count": 37,
   "id": "a69e31c7-b1c3-4abb-bb7d-c753f44fbea6",
   "metadata": {},
   "outputs": [
    {
     "name": "stdin",
     "output_type": "stream",
     "text": [
      "Number of a part-1:  2\n",
      "Total build time from the SLM machine:  4\n"
     ]
    }
   ],
   "source": [
    "# %%Input entries\n",
    "number_of_parts = int(input(\"Number of a part-1: \"))\n",
    "t_build = int(input(\"Total build time from the SLM machine: \"))\n",
    "\n",
    "material_type = {\n",
    "    \"inconel\": 157300 * 8e-6,  # WON/kg*kg/mm3,\n",
    "    \"maraging_steel\": 206800 * 8.0e-6,\n",
    "    \"ss316l\": 205000 * 8.0e-6,\n",
    "    \"ti_grade2\": 601700 * 4.51e-6,\n",
    "    \"ti64\": 748000 * 4.43e-6, #it was 460000 but from KNU_Ti64 I noticed that material cost/kg is 748k\n",
    "}\n"
   ]
  },
  {
   "cell_type": "code",
   "execution_count": 38,
   "id": "bf922f73-0425-44d7-a100-afef3927dbb5",
   "metadata": {},
   "outputs": [],
   "source": [
    "m_type, different_parts = 'ti64', 2"
   ]
  },
  {
   "cell_type": "code",
   "execution_count": 39,
   "id": "091ff390-7980-468d-b76f-d64c23c4ec0e",
   "metadata": {},
   "outputs": [],
   "source": [
    "mat_cost = material_type.__getitem__(m_type)"
   ]
  },
  {
   "cell_type": "code",
   "execution_count": 40,
   "id": "4b671d1b-9e11-4490-b593-26c4792ec15c",
   "metadata": {},
   "outputs": [],
   "source": [
    "c_machine = t_build * c_machrate"
   ]
  },
  {
   "cell_type": "code",
   "execution_count": 8,
   "id": "0f97cc88-dc84-43e4-ac11-1219480481a9",
   "metadata": {},
   "outputs": [],
   "source": [
    "# cost_part = part_volume * mat_cost"
   ]
  },
  {
   "cell_type": "code",
   "execution_count": 9,
   "id": "593fb0bb-0b6c-4ad3-8386-02227e7eddda",
   "metadata": {},
   "outputs": [],
   "source": [
    "# cost_sup = support_vol * mat_cost\n",
    "# cost_scrap = cost_part * 0.15"
   ]
  },
  {
   "cell_type": "code",
   "execution_count": 41,
   "id": "ce2a74bb-73fe-4c5c-a512-6a5cbe5feedc",
   "metadata": {},
   "outputs": [
    {
     "name": "stdout",
     "output_type": "stream",
     "text": [
      "<class 'list'>\n"
     ]
    },
    {
     "name": "stdin",
     "output_type": "stream",
     "text": [
      "Enter corresponding number of parts + part volume + support volume for object #1 1+1500+1500\n",
      "Enter corresponding number of parts + part volume + support volume for object #2 1+1500+1500\n"
     ]
    },
    {
     "name": "stdout",
     "output_type": "stream",
     "text": [
      "9940.92\n",
      "9940.92\n"
     ]
    }
   ],
   "source": [
    "part_sup_vol = []\n",
    "print(type(part_sup_vol))\n",
    "\n",
    "if different_parts > 1:\n",
    "    for i in range(1, different_parts+1):\n",
    "        volume = input(\"Enter corresponding number of parts + part volume + support volume for object #{0}\".format(i)).split('+')\n",
    "        part_sup_vol.append([int(volume[0]), int(volume[1]), int(volume[2])])\n",
    "        \n",
    "    cost_part = 0\n",
    "    cost_sup = 0\n",
    "    for j in range(len(part_sup_vol)):\n",
    "        cost_part = cost_part + mat_cost * part_sup_vol[j][0] * part_sup_vol[j][1]\n",
    "        cost_sup = cost_sup + mat_cost * part_sup_vol[j][0] * part_sup_vol[j][2]\n",
    "    cost_scrap=cost_part*0.15\n",
    "# else:\n",
    "#     cost_part=mat_cost * \n",
    "\n",
    "print(cost_part)\n",
    "print(cost_sup)"
   ]
  },
  {
   "cell_type": "code",
   "execution_count": 42,
   "id": "1c90af27-618f-4323-90ff-65ee29f73532",
   "metadata": {},
   "outputs": [],
   "source": [
    "if t_build >= 240:\n",
    "    c_filter = 2 * c_filter_porous\n",
    "elif t_build < 240:\n",
    "    c_filter = c_filter_porous"
   ]
  },
  {
   "cell_type": "code",
   "execution_count": 43,
   "id": "119ca0ae-9005-42a3-b6bd-be4b45ebebe5",
   "metadata": {},
   "outputs": [
    {
     "name": "stdin",
     "output_type": "stream",
     "text": [
      "Does the build job need wire cutting? N\n",
      "Does the build job need heat treatment? N\n"
     ]
    }
   ],
   "source": [
    "cp_mat = cost_part + cost_sup + cost_scrap\n",
    "c_build = c_machine + c_filter + c_gas + c_rl\n",
    "\n",
    "wire_cut = input('Does the build job need wire cutting?')\n",
    "heat_treat = input('Does the build job need heat treatment?')\n",
    "\n",
    "if wire_cut == 'N':\n",
    "    c_wc = 0\n",
    "else:\n",
    "    c_wc = 200000\n",
    "\n",
    "if heat_treat == 'N':\n",
    "    c_ht = 0\n",
    "else:\n",
    "    c_ht = 100000\n",
    "    \n",
    "c_post = c_mp + c_wc + c_ht"
   ]
  },
  {
   "cell_type": "code",
   "execution_count": 52,
   "id": "9ae84bec-df44-48ec-80e7-f2cd01005420",
   "metadata": {},
   "outputs": [
    {
     "name": "stdout",
     "output_type": "stream",
     "text": [
      "657125.8564705882\n"
     ]
    }
   ],
   "source": [
    "c_total =  (cp_mat + c_build + c_post)*1 / (1 - F) \n",
    "print(c_total)"
   ]
  },
  {
   "cell_type": "code",
   "execution_count": 53,
   "id": "576bc533-dff3-4ade-943f-aacf1e1250eb",
   "metadata": {},
   "outputs": [
    {
     "name": "stdout",
     "output_type": "stream",
     "text": [
      "6000\n"
     ]
    }
   ],
   "source": [
    "c_temp = 0\n",
    "for i in range(len(part_sup_vol)):\n",
    "    c_temp = c_temp + (part_sup_vol[i][0] * (part_sup_vol[i][1] + part_sup_vol[i][2]))\n",
    "print(c_temp)"
   ]
  },
  {
   "cell_type": "code",
   "execution_count": 54,
   "id": "1ebe5355-6039-4654-b797-7b8d4e4e6e46",
   "metadata": {},
   "outputs": [
    {
     "name": "stdout",
     "output_type": "stream",
     "text": [
      "109.52097607843137\n"
     ]
    }
   ],
   "source": [
    "cost_ratio_total = c_total/c_temp\n",
    "print(cost_ratio_total)"
   ]
  },
  {
   "cell_type": "code",
   "execution_count": 55,
   "id": "b5b71ee2-4125-4e44-b373-3a64b2aeb987",
   "metadata": {},
   "outputs": [],
   "source": [
    "c_i = []\n",
    "for i in range(len(part_sup_vol)):\n",
    "    c_i.append(part_sup_vol[i][0] * (part_sup_vol[i][1] + part_sup_vol[i][2]) * cost_ratio_total)"
   ]
  },
  {
   "cell_type": "code",
   "execution_count": 56,
   "id": "0d79e63f-c967-4f70-bdce-e1a1c847b28d",
   "metadata": {},
   "outputs": [
    {
     "data": {
      "text/plain": [
       "[328562.9282352941, 328562.9282352941]"
      ]
     },
     "execution_count": 56,
     "metadata": {},
     "output_type": "execute_result"
    }
   ],
   "source": [
    "c_i"
   ]
  },
  {
   "cell_type": "code",
   "execution_count": 61,
   "id": "ad4e6543-69da-499b-ae98-fd732e301c1e",
   "metadata": {},
   "outputs": [
    {
     "data": {
      "text/plain": [
       "2.0378"
      ]
     },
     "execution_count": 61,
     "metadata": {},
     "output_type": "execute_result"
    }
   ],
   "source": [
    "material_type[m_type]"
   ]
  },
  {
   "cell_type": "code",
   "execution_count": 62,
   "id": "07829073-6c98-477a-adf9-c48ba2089318",
   "metadata": {},
   "outputs": [
    {
     "data": {
      "text/plain": [
       "2.0378"
      ]
     },
     "execution_count": 62,
     "metadata": {},
     "output_type": "execute_result"
    }
   ],
   "source": [
    "mat_cost"
   ]
  },
  {
   "cell_type": "code",
   "execution_count": null,
   "id": "78aeef6e-1385-4257-b21f-94b475f33b3c",
   "metadata": {},
   "outputs": [],
   "source": []
  }
 ],
 "metadata": {
  "kernelspec": {
   "display_name": "Python 3 (ipykernel)",
   "language": "python",
   "name": "python3"
  },
  "language_info": {
   "codemirror_mode": {
    "name": "ipython",
    "version": 3
   },
   "file_extension": ".py",
   "mimetype": "text/x-python",
   "name": "python",
   "nbconvert_exporter": "python",
   "pygments_lexer": "ipython3",
   "version": "3.10.0"
  }
 },
 "nbformat": 4,
 "nbformat_minor": 5
}
